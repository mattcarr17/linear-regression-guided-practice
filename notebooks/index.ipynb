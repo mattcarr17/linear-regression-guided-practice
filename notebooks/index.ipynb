{
 "cells": [
  {
   "cell_type": "markdown",
   "metadata": {},
   "source": [
    "# Linear Regression Guided Practice\n",
    "\n",
    " In this notebook, you'll be using data collected by the WHO about life expectancy to try and understand potentially-related factors. The information is aggregated on a per-country per-year basis. Explanations of the data variabales can be found in `DATA.md`\n",
    "\n",
    "#### Overview\n",
    "1. Initial EDA\n",
    "2. Baseline Model\n",
    "3. Check Assumptions\n",
    "4. Iterations\n",
    "\n",
    "We'll start by importing the relevant modules and loading the data below."
   ]
  },
  {
   "cell_type": "code",
   "execution_count": null,
   "metadata": {},
   "outputs": [],
   "source": [
    "# run this cell without changes\n",
    "import pandas as pd\n",
    "import numpy as np\n",
    "import matplotlib.pyplot as plt\n",
    "import seaborn as sns\n",
    "import statsmodels.api as sm\n",
    "from statsmodels.formula.api import ols"
   ]
  },
  {
   "cell_type": "code",
   "execution_count": null,
   "metadata": {},
   "outputs": [],
   "source": [
    "# run this cell without changes\n",
    "df = pd.read_csv('../data/life_expectancy.csv').drop('Unnamed: 0', axis=1)\n",
    "df.head()"
   ]
  },
  {
   "cell_type": "markdown",
   "metadata": {},
   "source": [
    "## Initial EDA\n",
    "\n",
    "Before we get into modeling, we want to have a better idea of the data we are working with. Your EDA can be as extensive as you wish, but for the purposes of this notebook we will want to at least do the following:\n",
    "- Check shape of dataframe\n",
    "- Check for missing values\n",
    "- Explore distribution of target variable\n",
    "- Look at correlations with target variable"
   ]
  },
  {
   "cell_type": "code",
   "execution_count": null,
   "metadata": {},
   "outputs": [],
   "source": [
    "# your code here (add as many cells as needed)"
   ]
  },
  {
   "cell_type": "code",
   "execution_count": null,
   "metadata": {},
   "outputs": [],
   "source": []
  },
  {
   "cell_type": "markdown",
   "metadata": {},
   "source": [
    "### Baseline Model\n",
    "\n",
    "Now that we have a better understanding of our data, it's time to create our first model. After investigating how the independent variables correlate with the dependent variable above, please choose three independent variables you would like to create the baseline model with. Using these three independent variables create a multiple linear regression model to predict `life_expectancy`. **NOTE** you may need to handle missing values.\n",
    "\n",
    "Once you have fit your model, please print the model summary and do the following:\n",
    "- Identify the extent these three variables explain the variance of `life_expectancy`\n",
    "- Interpret the intercept and coefficients\n",
    "- Conclude whether each coefficient is statistically significant"
   ]
  },
  {
   "cell_type": "code",
   "execution_count": null,
   "metadata": {},
   "outputs": [],
   "source": [
    "# your code here (add as many cells as needed)"
   ]
  },
  {
   "cell_type": "code",
   "execution_count": null,
   "metadata": {},
   "outputs": [],
   "source": []
  },
  {
   "cell_type": "markdown",
   "metadata": {},
   "source": [
    "### Check Assumptions\n",
    "\n",
    "A key component of inferential modeling is to ensure our model meets the assumptions of linear regression. \n",
    "\n",
    "1. **Linearity** - The independent variables linearly predict the dependent variable (linear relationship between them).\n",
    "\n",
    "2. **Normality** - The model's residuals are normally distributed.\n",
    "\n",
    "3. **Homoscedasticity** - The residuals have a consistent variance across entire range of dependent variable\n",
    "\n",
    "4. **Independence** - Independent variables are not too highly correlated to one another (no multicollinearity)\n",
    "\n",
    "Please check each of these assumptions for the baseline model you created above."
   ]
  },
  {
   "cell_type": "code",
   "execution_count": null,
   "metadata": {},
   "outputs": [],
   "source": [
    "# your code here (add as many cells as needed)"
   ]
  },
  {
   "cell_type": "code",
   "execution_count": null,
   "metadata": {},
   "outputs": [],
   "source": []
  },
  {
   "cell_type": "markdown",
   "metadata": {},
   "source": [
    "### Iterations\n",
    "\n",
    "Create additional model iterations. Be sure to check the assumptions of linear regression after each."
   ]
  },
  {
   "cell_type": "code",
   "execution_count": null,
   "metadata": {},
   "outputs": [],
   "source": [
    "# your code here"
   ]
  },
  {
   "cell_type": "code",
   "execution_count": null,
   "metadata": {},
   "outputs": [],
   "source": []
  }
 ],
 "metadata": {
  "interpreter": {
   "hash": "d56d6a5f2a8699d85bc719e5bd2733ecb51afd7fb00a7b715cfb04c2ba992f8a"
  },
  "kernelspec": {
   "display_name": "Python 3.9.5 64-bit ('solar-analysis': conda)",
   "language": "python",
   "name": "python3"
  },
  "language_info": {
   "codemirror_mode": {
    "name": "ipython",
    "version": 3
   },
   "file_extension": ".py",
   "mimetype": "text/x-python",
   "name": "python",
   "nbconvert_exporter": "python",
   "pygments_lexer": "ipython3",
   "version": "3.9.5"
  },
  "orig_nbformat": 4
 },
 "nbformat": 4,
 "nbformat_minor": 2
}
